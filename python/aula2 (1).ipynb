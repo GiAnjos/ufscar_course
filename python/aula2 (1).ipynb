{
  "nbformat": 4,
  "nbformat_minor": 0,
  "metadata": {
    "colab": {
      "provenance": []
    },
    "kernelspec": {
      "name": "python3",
      "display_name": "Python 3"
    },
    "language_info": {
      "name": "python"
    }
  },
  "cells": [
    {
      "cell_type": "code",
      "execution_count": 1,
      "metadata": {
        "id": "S2v_BPoKtl26"
      },
      "outputs": [],
      "source": [
        "import math"
      ]
    },
    {
      "cell_type": "markdown",
      "source": [
        "Criando inputs e outputs"
      ],
      "metadata": {
        "id": "EE1d7bP63OOS"
      }
    },
    {
      "cell_type": "code",
      "source": [
        "meu_resultado = math.sqrt(81)\n",
        "print(meu_resultado)"
      ],
      "metadata": {
        "colab": {
          "base_uri": "https://localhost:8080/"
        },
        "id": "3pWvRj89yKTf",
        "outputId": "f083684f-37c1-42da-9027-9ccecced82c9"
      },
      "execution_count": 2,
      "outputs": [
        {
          "output_type": "stream",
          "name": "stdout",
          "text": [
            "9.0\n"
          ]
        }
      ]
    },
    {
      "cell_type": "code",
      "source": [
        "minha_entrada = int(input('Digite um número: '))\n",
        "meu_resultado = math.sqrt(minha_entrada)\n",
        "print(meu_resultado)"
      ],
      "metadata": {
        "colab": {
          "base_uri": "https://localhost:8080/"
        },
        "id": "Q8pl21x7x2vJ",
        "outputId": "c6bb292b-3db3-4bf4-d1e5-b5c43980c14e"
      },
      "execution_count": 3,
      "outputs": [
        {
          "output_type": "stream",
          "name": "stdout",
          "text": [
            "Digite um número: 9\n",
            "3.0\n"
          ]
        }
      ]
    },
    {
      "cell_type": "code",
      "source": [
        "print('Olá, meu número favorito é ' + str(5))"
      ],
      "metadata": {
        "colab": {
          "base_uri": "https://localhost:8080/"
        },
        "id": "dT8c_beTzYe8",
        "outputId": "dbfdcc59-d6f7-4e30-b2ae-e51e030ee77a"
      },
      "execution_count": 11,
      "outputs": [
        {
          "output_type": "stream",
          "name": "stdout",
          "text": [
            "Olá, meu número favorito é 5\n"
          ]
        }
      ]
    },
    {
      "cell_type": "markdown",
      "source": [
        "Listas e Tuplas\n"
      ],
      "metadata": {
        "id": "-ed6ayab1ycf"
      }
    },
    {
      "cell_type": "code",
      "source": [
        "#Tuplas são imultáveis e listas não\n",
        "minha_lista = ['one', 1, 4, 'two']\n",
        "for e in minha_lista:\n",
        "  print(e)"
      ],
      "metadata": {
        "colab": {
          "base_uri": "https://localhost:8080/"
        },
        "id": "GPMmsrVL0nu7",
        "outputId": "2658212b-0477-4789-e79d-2b0f304a73dc"
      },
      "execution_count": 21,
      "outputs": [
        {
          "output_type": "stream",
          "name": "stdout",
          "text": [
            "one\n",
            "1\n",
            "4\n",
            "two\n"
          ]
        }
      ]
    },
    {
      "cell_type": "code",
      "source": [
        "#O primeiro elemento de python é o 0\n",
        "minha_lista[0] = 'primeiro elemento'\n",
        "minha_lista"
      ],
      "metadata": {
        "colab": {
          "base_uri": "https://localhost:8080/"
        },
        "id": "t2RIjrgw2WK6",
        "outputId": "0c7bd627-c25c-491f-b8ff-7fbdc24df3d5"
      },
      "execution_count": 15,
      "outputs": [
        {
          "output_type": "execute_result",
          "data": {
            "text/plain": [
              "['primeiro elemento', 1, 4, 'two']"
            ]
          },
          "metadata": {},
          "execution_count": 15
        }
      ]
    },
    {
      "cell_type": "code",
      "source": [
        "minha_tupla = ('two', 3, 5, 'five')\n",
        "for e in minha_tupla:\n",
        "  print(e)"
      ],
      "metadata": {
        "colab": {
          "base_uri": "https://localhost:8080/"
        },
        "id": "G8BGccH625RJ",
        "outputId": "7a4cda1b-3746-4f55-bf88-c1f722447c41"
      },
      "execution_count": 17,
      "outputs": [
        {
          "output_type": "stream",
          "name": "stdout",
          "text": [
            "two\n",
            "3\n",
            "5\n",
            "five\n"
          ]
        }
      ]
    },
    {
      "cell_type": "code",
      "source": [
        "minha_lista[2] = minha_lista[2] * 2\n",
        "minha_lista"
      ],
      "metadata": {
        "colab": {
          "base_uri": "https://localhost:8080/"
        },
        "id": "1gfTmG9w4Aw3",
        "outputId": "f3eb37d7-ab01-4af1-80e1-97c8585c9c83"
      },
      "execution_count": 22,
      "outputs": [
        {
          "output_type": "execute_result",
          "data": {
            "text/plain": [
              "['one', 1, 8, 'two']"
            ]
          },
          "metadata": {},
          "execution_count": 22
        }
      ]
    },
    {
      "cell_type": "code",
      "source": [
        "#Para acessar elementos do final da lista\n",
        "minha_lista[-2]"
      ],
      "metadata": {
        "colab": {
          "base_uri": "https://localhost:8080/"
        },
        "id": "ZsX7ug9T44vl",
        "outputId": "46dbc36e-5cde-428a-f327-fc7dae8cb304"
      },
      "execution_count": 23,
      "outputs": [
        {
          "output_type": "execute_result",
          "data": {
            "text/plain": [
              "8"
            ]
          },
          "metadata": {},
          "execution_count": 23
        }
      ]
    },
    {
      "cell_type": "code",
      "source": [
        "numero_elementos = len(minha_lista)\n",
        "print(numero_elementos - 1)"
      ],
      "metadata": {
        "colab": {
          "base_uri": "https://localhost:8080/"
        },
        "id": "kbBDm4Eg5Yh2",
        "outputId": "1b2acb3f-1a2e-4fae-d325-876836badf7e"
      },
      "execution_count": 24,
      "outputs": [
        {
          "output_type": "stream",
          "name": "stdout",
          "text": [
            "3\n"
          ]
        }
      ]
    },
    {
      "cell_type": "code",
      "source": [
        "minha_lista.append('elemento 7')\n",
        "minha_lista"
      ],
      "metadata": {
        "colab": {
          "base_uri": "https://localhost:8080/"
        },
        "id": "Fy5qTxBb8f5I",
        "outputId": "1612cd3a-d6b5-4d7a-f047-98c8b8e9c4ef"
      },
      "execution_count": 25,
      "outputs": [
        {
          "output_type": "execute_result",
          "data": {
            "text/plain": [
              "['one', 1, 8, 'two', 'elemento 7']"
            ]
          },
          "metadata": {},
          "execution_count": 25
        }
      ]
    },
    {
      "cell_type": "code",
      "source": [
        "minha_lista.insert(2,'elemento 7')\n",
        "minha_lista"
      ],
      "metadata": {
        "colab": {
          "base_uri": "https://localhost:8080/"
        },
        "id": "q9RYKOog8oGa",
        "outputId": "8dc6f57e-96c4-4a0a-8293-daee1ecad9ba"
      },
      "execution_count": 28,
      "outputs": [
        {
          "output_type": "execute_result",
          "data": {
            "text/plain": [
              "['one', 1, 'elemento 7', 8, 'two', 'elemento 7']"
            ]
          },
          "metadata": {},
          "execution_count": 28
        }
      ]
    },
    {
      "cell_type": "code",
      "source": [
        "#slices\n",
        "minha_lista[2:]"
      ],
      "metadata": {
        "colab": {
          "base_uri": "https://localhost:8080/"
        },
        "id": "1DJhi9f5-7kA",
        "outputId": "930a8689-d639-4830-9e1e-55c2ca7a0825"
      },
      "execution_count": 29,
      "outputs": [
        {
          "output_type": "execute_result",
          "data": {
            "text/plain": [
              "['elemento 7', 8, 'two', 'elemento 7']"
            ]
          },
          "metadata": {},
          "execution_count": 29
        }
      ]
    },
    {
      "cell_type": "code",
      "source": [
        "minha_lista[:1]\n",
        "#o primeiro elemento do slice (delimitador) é inclusivo e o segundo e exclusivo"
      ],
      "metadata": {
        "colab": {
          "base_uri": "https://localhost:8080/"
        },
        "id": "fE0omcne_Be_",
        "outputId": "c2d689da-e67c-4969-c81b-f93948a5de51"
      },
      "execution_count": 30,
      "outputs": [
        {
          "output_type": "execute_result",
          "data": {
            "text/plain": [
              "['one']"
            ]
          },
          "metadata": {},
          "execution_count": 30
        }
      ]
    },
    {
      "cell_type": "code",
      "source": [
        "#exemplo do que ocorre dos delimitadores\n",
        "for i in range(0,5):\n",
        "  print(i)\n"
      ],
      "metadata": {
        "colab": {
          "base_uri": "https://localhost:8080/"
        },
        "id": "BSbzYWf1AFOT",
        "outputId": "c1f9122c-f407-4402-f10d-5b724f10fc69"
      },
      "execution_count": 31,
      "outputs": [
        {
          "output_type": "stream",
          "name": "stdout",
          "text": [
            "0\n",
            "1\n",
            "2\n",
            "3\n",
            "4\n"
          ]
        }
      ]
    },
    {
      "cell_type": "code",
      "source": [
        "outra_lista = [1, 2 , 3]\n",
        "x, y, z = outra_lista\n",
        "print(x)\n",
        "print(y)\n",
        "print(z)"
      ],
      "metadata": {
        "colab": {
          "base_uri": "https://localhost:8080/"
        },
        "id": "5KaBiyv6C4DD",
        "outputId": "80281216-d554-4a54-ea3f-0a47217fd92b"
      },
      "execution_count": 32,
      "outputs": [
        {
          "output_type": "stream",
          "name": "stdout",
          "text": [
            "1\n",
            "2\n",
            "3\n"
          ]
        }
      ]
    },
    {
      "cell_type": "code",
      "source": [
        "print((x + y) * z)"
      ],
      "metadata": {
        "colab": {
          "base_uri": "https://localhost:8080/"
        },
        "id": "739ex-mcDcqO",
        "outputId": "cc174f37-6a00-4279-9cf8-178c36c83a3c"
      },
      "execution_count": 33,
      "outputs": [
        {
          "output_type": "stream",
          "name": "stdout",
          "text": [
            "9\n"
          ]
        }
      ]
    },
    {
      "cell_type": "markdown",
      "source": [
        "Dicionários"
      ],
      "metadata": {
        "id": "x5oReuOrERDG"
      }
    },
    {
      "cell_type": "code",
      "source": [
        "meu_dict = {'primeiro': 1, 'segundo': 2, 'terceiro': 3, 4: minha_tupla}\n",
        "\n",
        "meu_dict[4] = minha_lista\n",
        "meu_dict[4].append('mais_elemento')\n",
        "meu_dict[4]"
      ],
      "metadata": {
        "colab": {
          "base_uri": "https://localhost:8080/"
        },
        "id": "1EHfiXSRETG6",
        "outputId": "032dae05-9111-40dc-adbb-0bc00e7860a3"
      },
      "execution_count": 39,
      "outputs": [
        {
          "output_type": "execute_result",
          "data": {
            "text/plain": [
              "['one',\n",
              " 1,\n",
              " 'elemento 7',\n",
              " 8,\n",
              " 'two',\n",
              " 'elemento 7',\n",
              " 'mais_elemento',\n",
              " 'mais_elemento']"
            ]
          },
          "metadata": {},
          "execution_count": 39
        }
      ]
    },
    {
      "cell_type": "code",
      "source": [
        "meu_dict.keys()"
      ],
      "metadata": {
        "colab": {
          "base_uri": "https://localhost:8080/"
        },
        "id": "YDyQVbrXGrtM",
        "outputId": "48626fe6-812e-4060-ab31-604c6c6fd55e"
      },
      "execution_count": 40,
      "outputs": [
        {
          "output_type": "execute_result",
          "data": {
            "text/plain": [
              "dict_keys(['primeiro', 'segundo', 'terceiro', 4])"
            ]
          },
          "metadata": {},
          "execution_count": 40
        }
      ]
    },
    {
      "cell_type": "code",
      "source": [
        "list(meu_dict.keys()) + ['elemento']"
      ],
      "metadata": {
        "colab": {
          "base_uri": "https://localhost:8080/"
        },
        "id": "pGqfQ2G9HR3N",
        "outputId": "26c7c487-a013-4571-dfeb-54ecbf7380e5"
      },
      "execution_count": 42,
      "outputs": [
        {
          "output_type": "execute_result",
          "data": {
            "text/plain": [
              "['primeiro', 'segundo', 'terceiro', 4, 'elemento']"
            ]
          },
          "metadata": {},
          "execution_count": 42
        }
      ]
    },
    {
      "cell_type": "code",
      "source": [
        "for item in meu_dict.items():\n",
        "  print(item)"
      ],
      "metadata": {
        "colab": {
          "base_uri": "https://localhost:8080/"
        },
        "id": "iaS4mCzlHmCY",
        "outputId": "a8995408-c1d4-4561-d878-2e2374d0960a"
      },
      "execution_count": 43,
      "outputs": [
        {
          "output_type": "stream",
          "name": "stdout",
          "text": [
            "('primeiro', 1)\n",
            "('segundo', 2)\n",
            "('terceiro', 3)\n",
            "(4, ['one', 1, 'elemento 7', 8, 'two', 'elemento 7', 'mais_elemento', 'mais_elemento'])\n"
          ]
        }
      ]
    },
    {
      "cell_type": "code",
      "source": [
        "for chave, valor in meu_dict.items():\n",
        "  print(chave, valor)"
      ],
      "metadata": {
        "colab": {
          "base_uri": "https://localhost:8080/"
        },
        "id": "OA62xYaoIKm2",
        "outputId": "d7963ed1-8a82-486e-feba-60bec5be01f7"
      },
      "execution_count": 45,
      "outputs": [
        {
          "output_type": "stream",
          "name": "stdout",
          "text": [
            "primeiro 1\n",
            "segundo 2\n",
            "terceiro 3\n",
            "4 ['one', 1, 'elemento 7', 8, 'two', 'elemento 7', 'mais_elemento', 'mais_elemento']\n"
          ]
        }
      ]
    },
    {
      "cell_type": "code",
      "source": [
        "for chave, valor in meu_dict.items():\n",
        "  print(f'Chave: {chave} ; Valor: {valor}')"
      ],
      "metadata": {
        "colab": {
          "base_uri": "https://localhost:8080/"
        },
        "id": "K9ksdnpCJlMX",
        "outputId": "751bf7a1-c9f9-479a-e3e2-4668f72a0028"
      },
      "execution_count": 46,
      "outputs": [
        {
          "output_type": "stream",
          "name": "stdout",
          "text": [
            "Chave: primeiro ; Valor: 1\n",
            "Chave: segundo ; Valor: 2\n",
            "Chave: terceiro ; Valor: 3\n",
            "Chave: 4 ; Valor: ['one', 1, 'elemento 7', 8, 'two', 'elemento 7', 'mais_elemento', 'mais_elemento']\n"
          ]
        }
      ]
    },
    {
      "cell_type": "code",
      "source": [
        "meu_dict['nova_chave'] =  \"novo_valor\"\n",
        "meu_dict"
      ],
      "metadata": {
        "colab": {
          "base_uri": "https://localhost:8080/"
        },
        "id": "OXZ5MnpFK1g1",
        "outputId": "e153f395-7749-470c-ef1f-8c2a1bb1147f"
      },
      "execution_count": 48,
      "outputs": [
        {
          "output_type": "execute_result",
          "data": {
            "text/plain": [
              "{'primeiro': 1,\n",
              " 'segundo': 2,\n",
              " 'terceiro': 3,\n",
              " 4: ['one',\n",
              "  1,\n",
              "  'elemento 7',\n",
              "  8,\n",
              "  'two',\n",
              "  'elemento 7',\n",
              "  'mais_elemento',\n",
              "  'mais_elemento'],\n",
              " 'nova_chave': 'novo_valor'}"
            ]
          },
          "metadata": {},
          "execution_count": 48
        }
      ]
    },
    {
      "cell_type": "code",
      "source": [
        "meu_dict.pop('segundo')\n",
        "meu_dict"
      ],
      "metadata": {
        "colab": {
          "base_uri": "https://localhost:8080/"
        },
        "id": "T9w9NfQXLOl3",
        "outputId": "2b4dc447-d09c-4228-9edc-e2ab65150187"
      },
      "execution_count": 49,
      "outputs": [
        {
          "output_type": "execute_result",
          "data": {
            "text/plain": [
              "{'primeiro': 1,\n",
              " 'terceiro': 3,\n",
              " 4: ['one',\n",
              "  1,\n",
              "  'elemento 7',\n",
              "  8,\n",
              "  'two',\n",
              "  'elemento 7',\n",
              "  'mais_elemento',\n",
              "  'mais_elemento'],\n",
              " 'nova_chave': 'novo_valor'}"
            ]
          },
          "metadata": {},
          "execution_count": 49
        }
      ]
    },
    {
      "cell_type": "code",
      "source": [
        "#booleano\n",
        "'nova_chave' in meu_dict"
      ],
      "metadata": {
        "colab": {
          "base_uri": "https://localhost:8080/"
        },
        "id": "0WWIrp3OLlhS",
        "outputId": "08e1bb76-76fd-409a-8349-766f11f79937"
      },
      "execution_count": 50,
      "outputs": [
        {
          "output_type": "execute_result",
          "data": {
            "text/plain": [
              "True"
            ]
          },
          "metadata": {},
          "execution_count": 50
        }
      ]
    },
    {
      "cell_type": "code",
      "source": [
        "'segundo' in meu_dict"
      ],
      "metadata": {
        "colab": {
          "base_uri": "https://localhost:8080/"
        },
        "id": "0cRiFyxDLlnP",
        "outputId": "fc6e83e6-d1e8-44d8-ff6b-422120d6c59f"
      },
      "execution_count": 51,
      "outputs": [
        {
          "output_type": "execute_result",
          "data": {
            "text/plain": [
              "False"
            ]
          },
          "metadata": {},
          "execution_count": 51
        }
      ]
    },
    {
      "cell_type": "markdown",
      "source": [
        "Aleatório"
      ],
      "metadata": {
        "id": "MpEdd6G9MYEe"
      }
    },
    {
      "cell_type": "code",
      "source": [
        "import random"
      ],
      "metadata": {
        "id": "c7walPh1Mbdr"
      },
      "execution_count": 52,
      "outputs": []
    },
    {
      "cell_type": "code",
      "source": [
        "random.seed(10)\n",
        "#assim não da muito certo\n",
        "random.randint(0, 10)"
      ],
      "metadata": {
        "colab": {
          "base_uri": "https://localhost:8080/"
        },
        "id": "I7kFP4KPMiBE",
        "outputId": "b99ac433-1d60-4eeb-b4d7-a5e1fa2f2671"
      },
      "execution_count": 54,
      "outputs": [
        {
          "output_type": "execute_result",
          "data": {
            "text/plain": [
              "9"
            ]
          },
          "metadata": {},
          "execution_count": 54
        }
      ]
    },
    {
      "cell_type": "code",
      "source": [
        "for i in range(10):\n",
        "  print(random.randint(0, 10))"
      ],
      "metadata": {
        "colab": {
          "base_uri": "https://localhost:8080/"
        },
        "id": "Zs_Wkfx4M9zy",
        "outputId": "dc1b520e-e5c2-497c-8e3d-4ed4df1fce71"
      },
      "execution_count": 55,
      "outputs": [
        {
          "output_type": "stream",
          "name": "stdout",
          "text": [
            "0\n",
            "6\n",
            "7\n",
            "9\n",
            "0\n",
            "3\n",
            "7\n",
            "7\n",
            "4\n",
            "10\n"
          ]
        }
      ]
    },
    {
      "cell_type": "code",
      "source": [
        "random.seed(100)\n",
        "file = open('numeros.txt', 'w')"
      ],
      "metadata": {
        "id": "tcj0_ITwM96H"
      },
      "execution_count": 56,
      "outputs": []
    },
    {
      "cell_type": "code",
      "source": [
        "for i in range(20):\n",
        "  file.write(str(random.randint(0, 20)))"
      ],
      "metadata": {
        "id": "zNpnrPGRPF8g"
      },
      "execution_count": 57,
      "outputs": []
    },
    {
      "cell_type": "code",
      "source": [
        "file = open('numeros.txt', 'w')\n",
        "file.write('fim')"
      ],
      "metadata": {
        "colab": {
          "base_uri": "https://localhost:8080/"
        },
        "id": "WxZ9PhjfPYcV",
        "outputId": "01289c92-8002-4f69-d89b-f74f97959134"
      },
      "execution_count": 58,
      "outputs": [
        {
          "output_type": "execute_result",
          "data": {
            "text/plain": [
              "3"
            ]
          },
          "metadata": {},
          "execution_count": 58
        }
      ]
    },
    {
      "cell_type": "code",
      "source": [
        "file.close()"
      ],
      "metadata": {
        "id": "wcNlskwVQZwv"
      },
      "execution_count": 60,
      "outputs": []
    },
    {
      "cell_type": "code",
      "source": [
        "file = open('numeros.txt', 'r')\n",
        "print(file.read())"
      ],
      "metadata": {
        "colab": {
          "base_uri": "https://localhost:8080/"
        },
        "id": "0i-rOuMXPxSi",
        "outputId": "67935b72-70fd-4c49-bc4a-811a60d6e113"
      },
      "execution_count": 59,
      "outputs": [
        {
          "output_type": "stream",
          "name": "stdout",
          "text": [
            "414145121113163173214812061079\n"
          ]
        }
      ]
    }
  ]
}